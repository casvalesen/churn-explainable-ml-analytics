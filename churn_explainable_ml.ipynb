{
  "nbformat": 4,
  "nbformat_minor": 0,
  "metadata": {
    "colab": {
      "provenance": [],
      "collapsed_sections": [
        "X_dDyckpjp_p",
        "zggVdV6heVU0"
      ]
    },
    "kernelspec": {
      "name": "python3",
      "display_name": "Python 3"
    },
    "language_info": {
      "name": "python"
    }
  },
  "cells": [
    {
      "cell_type": "markdown",
      "source": [
        "## ML Kick starter - Churn\n",
        "\n",
        "- This is a kick starter ML notebook for BearingPoint "
      ],
      "metadata": {
        "id": "pgxfq0BZcG4I"
      }
    },
    {
      "cell_type": "markdown",
      "source": [
        "###Download dataset"
      ],
      "metadata": {
        "id": "tIVV2E-OZbnu"
      }
    },
    {
      "cell_type": "code",
      "execution_count": null,
      "metadata": {
        "id": "IX0V6EYBZPWN"
      },
      "outputs": [],
      "source": [
        "# Import necessary functions \n",
        "import os\n",
        "import requests \n",
        "import pandas as pd"
      ]
    },
    {
      "cell_type": "code",
      "source": [
        "churn_path = 'https://raw.githubusercontent.com/casvalesen/mlflow_telco_churn/master/data/telco_churn.csv'"
      ],
      "metadata": {
        "id": "auo3u209b7P9"
      },
      "execution_count": null,
      "outputs": []
    },
    {
      "cell_type": "markdown",
      "source": [
        "## Have a quick look at the churn data"
      ],
      "metadata": {
        "id": "HRk0YOlQdEuU"
      }
    },
    {
      "cell_type": "code",
      "source": [
        "churn_data = pd.read_csv(churn_path)\n",
        "churn_data.head()"
      ],
      "metadata": {
        "colab": {
          "base_uri": "https://localhost:8080/",
          "height": 386
        },
        "id": "-AjshqXAdHyx",
        "outputId": "aa6aced6-fcaf-4e2f-cb3c-72c96136e78c"
      },
      "execution_count": null,
      "outputs": [
        {
          "output_type": "execute_result",
          "data": {
            "text/plain": [
              "   customerID  gender  SeniorCitizen Partner Dependents  tenure PhoneService  \\\n",
              "0  7590-VHVEG  Female              0     Yes         No       1           No   \n",
              "1  5575-GNVDE    Male              0      No         No      34          Yes   \n",
              "2  3668-QPYBK    Male              0      No         No       2          Yes   \n",
              "3  7795-CFOCW    Male              0      No         No      45           No   \n",
              "4  9237-HQITU  Female              0      No         No       2          Yes   \n",
              "\n",
              "      MultipleLines InternetService OnlineSecurity  ... DeviceProtection  \\\n",
              "0  No phone service             DSL             No  ...               No   \n",
              "1                No             DSL            Yes  ...              Yes   \n",
              "2                No             DSL            Yes  ...               No   \n",
              "3  No phone service             DSL            Yes  ...              Yes   \n",
              "4                No     Fiber optic             No  ...               No   \n",
              "\n",
              "  TechSupport StreamingTV StreamingMovies        Contract PaperlessBilling  \\\n",
              "0          No          No              No  Month-to-month              Yes   \n",
              "1          No          No              No        One year               No   \n",
              "2          No          No              No  Month-to-month              Yes   \n",
              "3         Yes          No              No        One year               No   \n",
              "4          No          No              No  Month-to-month              Yes   \n",
              "\n",
              "               PaymentMethod MonthlyCharges  TotalCharges Churn  \n",
              "0           Electronic check          29.85         29.85    No  \n",
              "1               Mailed check          56.95        1889.5    No  \n",
              "2               Mailed check          53.85        108.15   Yes  \n",
              "3  Bank transfer (automatic)          42.30       1840.75    No  \n",
              "4           Electronic check          70.70        151.65   Yes  \n",
              "\n",
              "[5 rows x 21 columns]"
            ],
            "text/html": [
              "\n",
              "  <div id=\"df-c9524ba4-2820-4d36-a3ca-88d17f641bbd\">\n",
              "    <div class=\"colab-df-container\">\n",
              "      <div>\n",
              "<style scoped>\n",
              "    .dataframe tbody tr th:only-of-type {\n",
              "        vertical-align: middle;\n",
              "    }\n",
              "\n",
              "    .dataframe tbody tr th {\n",
              "        vertical-align: top;\n",
              "    }\n",
              "\n",
              "    .dataframe thead th {\n",
              "        text-align: right;\n",
              "    }\n",
              "</style>\n",
              "<table border=\"1\" class=\"dataframe\">\n",
              "  <thead>\n",
              "    <tr style=\"text-align: right;\">\n",
              "      <th></th>\n",
              "      <th>customerID</th>\n",
              "      <th>gender</th>\n",
              "      <th>SeniorCitizen</th>\n",
              "      <th>Partner</th>\n",
              "      <th>Dependents</th>\n",
              "      <th>tenure</th>\n",
              "      <th>PhoneService</th>\n",
              "      <th>MultipleLines</th>\n",
              "      <th>InternetService</th>\n",
              "      <th>OnlineSecurity</th>\n",
              "      <th>...</th>\n",
              "      <th>DeviceProtection</th>\n",
              "      <th>TechSupport</th>\n",
              "      <th>StreamingTV</th>\n",
              "      <th>StreamingMovies</th>\n",
              "      <th>Contract</th>\n",
              "      <th>PaperlessBilling</th>\n",
              "      <th>PaymentMethod</th>\n",
              "      <th>MonthlyCharges</th>\n",
              "      <th>TotalCharges</th>\n",
              "      <th>Churn</th>\n",
              "    </tr>\n",
              "  </thead>\n",
              "  <tbody>\n",
              "    <tr>\n",
              "      <th>0</th>\n",
              "      <td>7590-VHVEG</td>\n",
              "      <td>Female</td>\n",
              "      <td>0</td>\n",
              "      <td>Yes</td>\n",
              "      <td>No</td>\n",
              "      <td>1</td>\n",
              "      <td>No</td>\n",
              "      <td>No phone service</td>\n",
              "      <td>DSL</td>\n",
              "      <td>No</td>\n",
              "      <td>...</td>\n",
              "      <td>No</td>\n",
              "      <td>No</td>\n",
              "      <td>No</td>\n",
              "      <td>No</td>\n",
              "      <td>Month-to-month</td>\n",
              "      <td>Yes</td>\n",
              "      <td>Electronic check</td>\n",
              "      <td>29.85</td>\n",
              "      <td>29.85</td>\n",
              "      <td>No</td>\n",
              "    </tr>\n",
              "    <tr>\n",
              "      <th>1</th>\n",
              "      <td>5575-GNVDE</td>\n",
              "      <td>Male</td>\n",
              "      <td>0</td>\n",
              "      <td>No</td>\n",
              "      <td>No</td>\n",
              "      <td>34</td>\n",
              "      <td>Yes</td>\n",
              "      <td>No</td>\n",
              "      <td>DSL</td>\n",
              "      <td>Yes</td>\n",
              "      <td>...</td>\n",
              "      <td>Yes</td>\n",
              "      <td>No</td>\n",
              "      <td>No</td>\n",
              "      <td>No</td>\n",
              "      <td>One year</td>\n",
              "      <td>No</td>\n",
              "      <td>Mailed check</td>\n",
              "      <td>56.95</td>\n",
              "      <td>1889.5</td>\n",
              "      <td>No</td>\n",
              "    </tr>\n",
              "    <tr>\n",
              "      <th>2</th>\n",
              "      <td>3668-QPYBK</td>\n",
              "      <td>Male</td>\n",
              "      <td>0</td>\n",
              "      <td>No</td>\n",
              "      <td>No</td>\n",
              "      <td>2</td>\n",
              "      <td>Yes</td>\n",
              "      <td>No</td>\n",
              "      <td>DSL</td>\n",
              "      <td>Yes</td>\n",
              "      <td>...</td>\n",
              "      <td>No</td>\n",
              "      <td>No</td>\n",
              "      <td>No</td>\n",
              "      <td>No</td>\n",
              "      <td>Month-to-month</td>\n",
              "      <td>Yes</td>\n",
              "      <td>Mailed check</td>\n",
              "      <td>53.85</td>\n",
              "      <td>108.15</td>\n",
              "      <td>Yes</td>\n",
              "    </tr>\n",
              "    <tr>\n",
              "      <th>3</th>\n",
              "      <td>7795-CFOCW</td>\n",
              "      <td>Male</td>\n",
              "      <td>0</td>\n",
              "      <td>No</td>\n",
              "      <td>No</td>\n",
              "      <td>45</td>\n",
              "      <td>No</td>\n",
              "      <td>No phone service</td>\n",
              "      <td>DSL</td>\n",
              "      <td>Yes</td>\n",
              "      <td>...</td>\n",
              "      <td>Yes</td>\n",
              "      <td>Yes</td>\n",
              "      <td>No</td>\n",
              "      <td>No</td>\n",
              "      <td>One year</td>\n",
              "      <td>No</td>\n",
              "      <td>Bank transfer (automatic)</td>\n",
              "      <td>42.30</td>\n",
              "      <td>1840.75</td>\n",
              "      <td>No</td>\n",
              "    </tr>\n",
              "    <tr>\n",
              "      <th>4</th>\n",
              "      <td>9237-HQITU</td>\n",
              "      <td>Female</td>\n",
              "      <td>0</td>\n",
              "      <td>No</td>\n",
              "      <td>No</td>\n",
              "      <td>2</td>\n",
              "      <td>Yes</td>\n",
              "      <td>No</td>\n",
              "      <td>Fiber optic</td>\n",
              "      <td>No</td>\n",
              "      <td>...</td>\n",
              "      <td>No</td>\n",
              "      <td>No</td>\n",
              "      <td>No</td>\n",
              "      <td>No</td>\n",
              "      <td>Month-to-month</td>\n",
              "      <td>Yes</td>\n",
              "      <td>Electronic check</td>\n",
              "      <td>70.70</td>\n",
              "      <td>151.65</td>\n",
              "      <td>Yes</td>\n",
              "    </tr>\n",
              "  </tbody>\n",
              "</table>\n",
              "<p>5 rows × 21 columns</p>\n",
              "</div>\n",
              "      <button class=\"colab-df-convert\" onclick=\"convertToInteractive('df-c9524ba4-2820-4d36-a3ca-88d17f641bbd')\"\n",
              "              title=\"Convert this dataframe to an interactive table.\"\n",
              "              style=\"display:none;\">\n",
              "        \n",
              "  <svg xmlns=\"http://www.w3.org/2000/svg\" height=\"24px\"viewBox=\"0 0 24 24\"\n",
              "       width=\"24px\">\n",
              "    <path d=\"M0 0h24v24H0V0z\" fill=\"none\"/>\n",
              "    <path d=\"M18.56 5.44l.94 2.06.94-2.06 2.06-.94-2.06-.94-.94-2.06-.94 2.06-2.06.94zm-11 1L8.5 8.5l.94-2.06 2.06-.94-2.06-.94L8.5 2.5l-.94 2.06-2.06.94zm10 10l.94 2.06.94-2.06 2.06-.94-2.06-.94-.94-2.06-.94 2.06-2.06.94z\"/><path d=\"M17.41 7.96l-1.37-1.37c-.4-.4-.92-.59-1.43-.59-.52 0-1.04.2-1.43.59L10.3 9.45l-7.72 7.72c-.78.78-.78 2.05 0 2.83L4 21.41c.39.39.9.59 1.41.59.51 0 1.02-.2 1.41-.59l7.78-7.78 2.81-2.81c.8-.78.8-2.07 0-2.86zM5.41 20L4 18.59l7.72-7.72 1.47 1.35L5.41 20z\"/>\n",
              "  </svg>\n",
              "      </button>\n",
              "      \n",
              "  <style>\n",
              "    .colab-df-container {\n",
              "      display:flex;\n",
              "      flex-wrap:wrap;\n",
              "      gap: 12px;\n",
              "    }\n",
              "\n",
              "    .colab-df-convert {\n",
              "      background-color: #E8F0FE;\n",
              "      border: none;\n",
              "      border-radius: 50%;\n",
              "      cursor: pointer;\n",
              "      display: none;\n",
              "      fill: #1967D2;\n",
              "      height: 32px;\n",
              "      padding: 0 0 0 0;\n",
              "      width: 32px;\n",
              "    }\n",
              "\n",
              "    .colab-df-convert:hover {\n",
              "      background-color: #E2EBFA;\n",
              "      box-shadow: 0px 1px 2px rgba(60, 64, 67, 0.3), 0px 1px 3px 1px rgba(60, 64, 67, 0.15);\n",
              "      fill: #174EA6;\n",
              "    }\n",
              "\n",
              "    [theme=dark] .colab-df-convert {\n",
              "      background-color: #3B4455;\n",
              "      fill: #D2E3FC;\n",
              "    }\n",
              "\n",
              "    [theme=dark] .colab-df-convert:hover {\n",
              "      background-color: #434B5C;\n",
              "      box-shadow: 0px 1px 3px 1px rgba(0, 0, 0, 0.15);\n",
              "      filter: drop-shadow(0px 1px 2px rgba(0, 0, 0, 0.3));\n",
              "      fill: #FFFFFF;\n",
              "    }\n",
              "  </style>\n",
              "\n",
              "      <script>\n",
              "        const buttonEl =\n",
              "          document.querySelector('#df-c9524ba4-2820-4d36-a3ca-88d17f641bbd button.colab-df-convert');\n",
              "        buttonEl.style.display =\n",
              "          google.colab.kernel.accessAllowed ? 'block' : 'none';\n",
              "\n",
              "        async function convertToInteractive(key) {\n",
              "          const element = document.querySelector('#df-c9524ba4-2820-4d36-a3ca-88d17f641bbd');\n",
              "          const dataTable =\n",
              "            await google.colab.kernel.invokeFunction('convertToInteractive',\n",
              "                                                     [key], {});\n",
              "          if (!dataTable) return;\n",
              "\n",
              "          const docLinkHtml = 'Like what you see? Visit the ' +\n",
              "            '<a target=\"_blank\" href=https://colab.research.google.com/notebooks/data_table.ipynb>data table notebook</a>'\n",
              "            + ' to learn more about interactive tables.';\n",
              "          element.innerHTML = '';\n",
              "          dataTable['output_type'] = 'display_data';\n",
              "          await google.colab.output.renderOutput(dataTable, element);\n",
              "          const docLink = document.createElement('div');\n",
              "          docLink.innerHTML = docLinkHtml;\n",
              "          element.appendChild(docLink);\n",
              "        }\n",
              "      </script>\n",
              "    </div>\n",
              "  </div>\n",
              "  "
            ]
          },
          "metadata": {},
          "execution_count": 3
        }
      ]
    },
    {
      "cell_type": "code",
      "source": [
        "churn_data.info()"
      ],
      "metadata": {
        "colab": {
          "base_uri": "https://localhost:8080/"
        },
        "id": "o6Lie4zxeCID",
        "outputId": "c73119be-fe48-41d8-e21a-dffb3ba64a75"
      },
      "execution_count": null,
      "outputs": [
        {
          "output_type": "stream",
          "name": "stdout",
          "text": [
            "<class 'pandas.core.frame.DataFrame'>\n",
            "RangeIndex: 7043 entries, 0 to 7042\n",
            "Data columns (total 21 columns):\n",
            " #   Column            Non-Null Count  Dtype  \n",
            "---  ------            --------------  -----  \n",
            " 0   customerID        7043 non-null   object \n",
            " 1   gender            7043 non-null   object \n",
            " 2   SeniorCitizen     7043 non-null   int64  \n",
            " 3   Partner           7043 non-null   object \n",
            " 4   Dependents        7043 non-null   object \n",
            " 5   tenure            7043 non-null   int64  \n",
            " 6   PhoneService      7043 non-null   object \n",
            " 7   MultipleLines     7043 non-null   object \n",
            " 8   InternetService   7043 non-null   object \n",
            " 9   OnlineSecurity    7043 non-null   object \n",
            " 10  OnlineBackup      7043 non-null   object \n",
            " 11  DeviceProtection  7043 non-null   object \n",
            " 12  TechSupport       7043 non-null   object \n",
            " 13  StreamingTV       7043 non-null   object \n",
            " 14  StreamingMovies   7043 non-null   object \n",
            " 15  Contract          7043 non-null   object \n",
            " 16  PaperlessBilling  7043 non-null   object \n",
            " 17  PaymentMethod     7043 non-null   object \n",
            " 18  MonthlyCharges    7043 non-null   float64\n",
            " 19  TotalCharges      7043 non-null   object \n",
            " 20  Churn             7043 non-null   object \n",
            "dtypes: float64(1), int64(2), object(18)\n",
            "memory usage: 1.1+ MB\n"
          ]
        }
      ]
    },
    {
      "cell_type": "markdown",
      "source": [
        "## Clean data \n",
        "\n",
        "We apply standard formatting we will need to the entire dataset. In a production setting, we would have to replicate this logic for the inference setup. Properly simulating this should define a pipeline that can be reused on the holdout set. However, for our simple example we will apply standard format cleaning on all data"
      ],
      "metadata": {
        "id": "TOuEDQIsiYOK"
      }
    },
    {
      "cell_type": "markdown",
      "source": [
        "**Data cleaning trap 1**: \n",
        "- Remember to only fill zeros based on statistics learned from the training data. If the holdout set is used then we will get data leakage"
      ],
      "metadata": {
        "id": "pVxA7w87jXsK"
      }
    },
    {
      "cell_type": "markdown",
      "source": [
        "## Split into train, validation and test set to avoid implicit data leakage"
      ],
      "metadata": {
        "id": "vqOtoA4teFGh"
      }
    },
    {
      "cell_type": "markdown",
      "source": [
        "**Separate out a test set that the model will never see in training**"
      ],
      "metadata": {
        "id": "GzPeMeUGgCib"
      }
    },
    {
      "cell_type": "code",
      "source": [
        "from sklearn.model_selection import train_test_split \n",
        "\n",
        "seed = 42\n",
        "holdout_test_size = 0.2\n",
        "\n",
        "train_val_data , holdout_test_data = train_test_split(churn_data,test_size = holdout_test_size, shuffle=True, random_state =seed)\n",
        "\n"
      ],
      "metadata": {
        "id": "pp7rTR_TeL3r"
      },
      "execution_count": null,
      "outputs": []
    },
    {
      "cell_type": "markdown",
      "source": [
        "**Separate the remaining into trainig and validation sets, that can be improved with cross validation**"
      ],
      "metadata": {
        "id": "nYJ69QjxgJbD"
      }
    },
    {
      "cell_type": "markdown",
      "source": [
        "###*Task for improvement: What are more statistically robust train/test split approaches?*"
      ],
      "metadata": {
        "id": "X_dDyckpjp_p"
      }
    },
    {
      "cell_type": "markdown",
      "source": [
        "## Exploratory Data Analysis\n"
      ],
      "metadata": {
        "id": "Xc_8l5tHeRnr"
      }
    },
    {
      "cell_type": "code",
      "source": [
        "train_val_data.describe()"
      ],
      "metadata": {
        "colab": {
          "base_uri": "https://localhost:8080/",
          "height": 300
        },
        "id": "WbDcxOi2eUlY",
        "outputId": "708c89f0-db4c-4842-f1ff-71025ce892eb"
      },
      "execution_count": null,
      "outputs": [
        {
          "output_type": "execute_result",
          "data": {
            "text/plain": [
              "       SeniorCitizen       tenure  MonthlyCharges\n",
              "count    5634.000000  5634.000000     5634.000000\n",
              "mean        0.160809    32.373092       64.864253\n",
              "std         0.367388    24.424539       30.089324\n",
              "min         0.000000     0.000000       18.250000\n",
              "25%         0.000000     9.000000       35.750000\n",
              "50%         0.000000    29.000000       70.525000\n",
              "75%         0.000000    55.000000       89.937500\n",
              "max         1.000000    72.000000      118.600000"
            ],
            "text/html": [
              "\n",
              "  <div id=\"df-9073d1c2-4c37-451a-bc3e-3bdd233634b5\">\n",
              "    <div class=\"colab-df-container\">\n",
              "      <div>\n",
              "<style scoped>\n",
              "    .dataframe tbody tr th:only-of-type {\n",
              "        vertical-align: middle;\n",
              "    }\n",
              "\n",
              "    .dataframe tbody tr th {\n",
              "        vertical-align: top;\n",
              "    }\n",
              "\n",
              "    .dataframe thead th {\n",
              "        text-align: right;\n",
              "    }\n",
              "</style>\n",
              "<table border=\"1\" class=\"dataframe\">\n",
              "  <thead>\n",
              "    <tr style=\"text-align: right;\">\n",
              "      <th></th>\n",
              "      <th>SeniorCitizen</th>\n",
              "      <th>tenure</th>\n",
              "      <th>MonthlyCharges</th>\n",
              "    </tr>\n",
              "  </thead>\n",
              "  <tbody>\n",
              "    <tr>\n",
              "      <th>count</th>\n",
              "      <td>5634.000000</td>\n",
              "      <td>5634.000000</td>\n",
              "      <td>5634.000000</td>\n",
              "    </tr>\n",
              "    <tr>\n",
              "      <th>mean</th>\n",
              "      <td>0.160809</td>\n",
              "      <td>32.373092</td>\n",
              "      <td>64.864253</td>\n",
              "    </tr>\n",
              "    <tr>\n",
              "      <th>std</th>\n",
              "      <td>0.367388</td>\n",
              "      <td>24.424539</td>\n",
              "      <td>30.089324</td>\n",
              "    </tr>\n",
              "    <tr>\n",
              "      <th>min</th>\n",
              "      <td>0.000000</td>\n",
              "      <td>0.000000</td>\n",
              "      <td>18.250000</td>\n",
              "    </tr>\n",
              "    <tr>\n",
              "      <th>25%</th>\n",
              "      <td>0.000000</td>\n",
              "      <td>9.000000</td>\n",
              "      <td>35.750000</td>\n",
              "    </tr>\n",
              "    <tr>\n",
              "      <th>50%</th>\n",
              "      <td>0.000000</td>\n",
              "      <td>29.000000</td>\n",
              "      <td>70.525000</td>\n",
              "    </tr>\n",
              "    <tr>\n",
              "      <th>75%</th>\n",
              "      <td>0.000000</td>\n",
              "      <td>55.000000</td>\n",
              "      <td>89.937500</td>\n",
              "    </tr>\n",
              "    <tr>\n",
              "      <th>max</th>\n",
              "      <td>1.000000</td>\n",
              "      <td>72.000000</td>\n",
              "      <td>118.600000</td>\n",
              "    </tr>\n",
              "  </tbody>\n",
              "</table>\n",
              "</div>\n",
              "      <button class=\"colab-df-convert\" onclick=\"convertToInteractive('df-9073d1c2-4c37-451a-bc3e-3bdd233634b5')\"\n",
              "              title=\"Convert this dataframe to an interactive table.\"\n",
              "              style=\"display:none;\">\n",
              "        \n",
              "  <svg xmlns=\"http://www.w3.org/2000/svg\" height=\"24px\"viewBox=\"0 0 24 24\"\n",
              "       width=\"24px\">\n",
              "    <path d=\"M0 0h24v24H0V0z\" fill=\"none\"/>\n",
              "    <path d=\"M18.56 5.44l.94 2.06.94-2.06 2.06-.94-2.06-.94-.94-2.06-.94 2.06-2.06.94zm-11 1L8.5 8.5l.94-2.06 2.06-.94-2.06-.94L8.5 2.5l-.94 2.06-2.06.94zm10 10l.94 2.06.94-2.06 2.06-.94-2.06-.94-.94-2.06-.94 2.06-2.06.94z\"/><path d=\"M17.41 7.96l-1.37-1.37c-.4-.4-.92-.59-1.43-.59-.52 0-1.04.2-1.43.59L10.3 9.45l-7.72 7.72c-.78.78-.78 2.05 0 2.83L4 21.41c.39.39.9.59 1.41.59.51 0 1.02-.2 1.41-.59l7.78-7.78 2.81-2.81c.8-.78.8-2.07 0-2.86zM5.41 20L4 18.59l7.72-7.72 1.47 1.35L5.41 20z\"/>\n",
              "  </svg>\n",
              "      </button>\n",
              "      \n",
              "  <style>\n",
              "    .colab-df-container {\n",
              "      display:flex;\n",
              "      flex-wrap:wrap;\n",
              "      gap: 12px;\n",
              "    }\n",
              "\n",
              "    .colab-df-convert {\n",
              "      background-color: #E8F0FE;\n",
              "      border: none;\n",
              "      border-radius: 50%;\n",
              "      cursor: pointer;\n",
              "      display: none;\n",
              "      fill: #1967D2;\n",
              "      height: 32px;\n",
              "      padding: 0 0 0 0;\n",
              "      width: 32px;\n",
              "    }\n",
              "\n",
              "    .colab-df-convert:hover {\n",
              "      background-color: #E2EBFA;\n",
              "      box-shadow: 0px 1px 2px rgba(60, 64, 67, 0.3), 0px 1px 3px 1px rgba(60, 64, 67, 0.15);\n",
              "      fill: #174EA6;\n",
              "    }\n",
              "\n",
              "    [theme=dark] .colab-df-convert {\n",
              "      background-color: #3B4455;\n",
              "      fill: #D2E3FC;\n",
              "    }\n",
              "\n",
              "    [theme=dark] .colab-df-convert:hover {\n",
              "      background-color: #434B5C;\n",
              "      box-shadow: 0px 1px 3px 1px rgba(0, 0, 0, 0.15);\n",
              "      filter: drop-shadow(0px 1px 2px rgba(0, 0, 0, 0.3));\n",
              "      fill: #FFFFFF;\n",
              "    }\n",
              "  </style>\n",
              "\n",
              "      <script>\n",
              "        const buttonEl =\n",
              "          document.querySelector('#df-9073d1c2-4c37-451a-bc3e-3bdd233634b5 button.colab-df-convert');\n",
              "        buttonEl.style.display =\n",
              "          google.colab.kernel.accessAllowed ? 'block' : 'none';\n",
              "\n",
              "        async function convertToInteractive(key) {\n",
              "          const element = document.querySelector('#df-9073d1c2-4c37-451a-bc3e-3bdd233634b5');\n",
              "          const dataTable =\n",
              "            await google.colab.kernel.invokeFunction('convertToInteractive',\n",
              "                                                     [key], {});\n",
              "          if (!dataTable) return;\n",
              "\n",
              "          const docLinkHtml = 'Like what you see? Visit the ' +\n",
              "            '<a target=\"_blank\" href=https://colab.research.google.com/notebooks/data_table.ipynb>data table notebook</a>'\n",
              "            + ' to learn more about interactive tables.';\n",
              "          element.innerHTML = '';\n",
              "          dataTable['output_type'] = 'display_data';\n",
              "          await google.colab.output.renderOutput(dataTable, element);\n",
              "          const docLink = document.createElement('div');\n",
              "          docLink.innerHTML = docLinkHtml;\n",
              "          element.appendChild(docLink);\n",
              "        }\n",
              "      </script>\n",
              "    </div>\n",
              "  </div>\n",
              "  "
            ]
          },
          "metadata": {},
          "execution_count": 6
        }
      ]
    },
    {
      "cell_type": "code",
      "source": [
        "train_val_data['tenure'].hist(bins = 100)"
      ],
      "metadata": {
        "colab": {
          "base_uri": "https://localhost:8080/",
          "height": 283
        },
        "id": "1IqFCuFmhG7s",
        "outputId": "b143e553-321e-4865-be38-51c8fffbf64a"
      },
      "execution_count": null,
      "outputs": [
        {
          "output_type": "execute_result",
          "data": {
            "text/plain": [
              "<matplotlib.axes._subplots.AxesSubplot at 0x7ff8caba7610>"
            ]
          },
          "metadata": {},
          "execution_count": 12
        },
        {
          "output_type": "display_data",
          "data": {
            "text/plain": [
              "<Figure size 432x288 with 1 Axes>"
            ],
            "image/png": "[encoded data removed]"
          },
          "metadata": {
            "needs_background": "light"
          }
        }
      ]
    },
    {
      "cell_type": "code",
      "source": [
        "train_val_data['MonthlyCharges'].hist(bins = 30)"
      ],
      "metadata": {
        "colab": {
          "base_uri": "https://localhost:8080/",
          "height": 283
        },
        "id": "ASrx0lm9Pmh5",
        "outputId": "8d0db984-e6c1-4d91-9952-61953f6286e8"
      },
      "execution_count": null,
      "outputs": [
        {
          "output_type": "execute_result",
          "data": {
            "text/plain": [
              "<matplotlib.axes._subplots.AxesSubplot at 0x7ff8ca927d90>"
            ]
          },
          "metadata": {},
          "execution_count": 13
        },
        {
          "output_type": "display_data",
          "data": {
            "text/plain": [
              "<Figure size 432x288 with 1 Axes>"
            ],
            "image/png": "[encoded data removed]"
          },
          "metadata": {
            "needs_background": "light"
          }
        }
      ]
    },
    {
      "cell_type": "code",
      "source": [
        "train_val_data.corr()"
      ],
      "metadata": {
        "colab": {
          "base_uri": "https://localhost:8080/",
          "height": 143
        },
        "id": "iNXOyXI_hWtj",
        "outputId": "575552ca-2b1d-4c30-d179-e9b980a4d5eb"
      },
      "execution_count": null,
      "outputs": [
        {
          "output_type": "execute_result",
          "data": {
            "text/plain": [
              "                SeniorCitizen    tenure  MonthlyCharges\n",
              "SeniorCitizen        1.000000  0.008823        0.217649\n",
              "tenure               0.008823  1.000000        0.253803\n",
              "MonthlyCharges       0.217649  0.253803        1.000000"
            ],
            "text/html": [
              "\n",
              "  <div id=\"df-694951e8-429f-4eb0-8fa5-96305b09a0ec\">\n",
              "    <div class=\"colab-df-container\">\n",
              "      <div>\n",
              "<style scoped>\n",
              "    .dataframe tbody tr th:only-of-type {\n",
              "        vertical-align: middle;\n",
              "    }\n",
              "\n",
              "    .dataframe tbody tr th {\n",
              "        vertical-align: top;\n",
              "    }\n",
              "\n",
              "    .dataframe thead th {\n",
              "        text-align: right;\n",
              "    }\n",
              "</style>\n",
              "<table border=\"1\" class=\"dataframe\">\n",
              "  <thead>\n",
              "    <tr style=\"text-align: right;\">\n",
              "      <th></th>\n",
              "      <th>SeniorCitizen</th>\n",
              "      <th>tenure</th>\n",
              "      <th>MonthlyCharges</th>\n",
              "    </tr>\n",
              "  </thead>\n",
              "  <tbody>\n",
              "    <tr>\n",
              "      <th>SeniorCitizen</th>\n",
              "      <td>1.000000</td>\n",
              "      <td>0.008823</td>\n",
              "      <td>0.217649</td>\n",
              "    </tr>\n",
              "    <tr>\n",
              "      <th>tenure</th>\n",
              "      <td>0.008823</td>\n",
              "      <td>1.000000</td>\n",
              "      <td>0.253803</td>\n",
              "    </tr>\n",
              "    <tr>\n",
              "      <th>MonthlyCharges</th>\n",
              "      <td>0.217649</td>\n",
              "      <td>0.253803</td>\n",
              "      <td>1.000000</td>\n",
              "    </tr>\n",
              "  </tbody>\n",
              "</table>\n",
              "</div>\n",
              "      <button class=\"colab-df-convert\" onclick=\"convertToInteractive('df-694951e8-429f-4eb0-8fa5-96305b09a0ec')\"\n",
              "              title=\"Convert this dataframe to an interactive table.\"\n",
              "              style=\"display:none;\">\n",
              "        \n",
              "  <svg xmlns=\"http://www.w3.org/2000/svg\" height=\"24px\"viewBox=\"0 0 24 24\"\n",
              "       width=\"24px\">\n",
              "    <path d=\"M0 0h24v24H0V0z\" fill=\"none\"/>\n",
              "    <path d=\"M18.56 5.44l.94 2.06.94-2.06 2.06-.94-2.06-.94-.94-2.06-.94 2.06-2.06.94zm-11 1L8.5 8.5l.94-2.06 2.06-.94-2.06-.94L8.5 2.5l-.94 2.06-2.06.94zm10 10l.94 2.06.94-2.06 2.06-.94-2.06-.94-.94-2.06-.94 2.06-2.06.94z\"/><path d=\"M17.41 7.96l-1.37-1.37c-.4-.4-.92-.59-1.43-.59-.52 0-1.04.2-1.43.59L10.3 9.45l-7.72 7.72c-.78.78-.78 2.05 0 2.83L4 21.41c.39.39.9.59 1.41.59.51 0 1.02-.2 1.41-.59l7.78-7.78 2.81-2.81c.8-.78.8-2.07 0-2.86zM5.41 20L4 18.59l7.72-7.72 1.47 1.35L5.41 20z\"/>\n",
              "  </svg>\n",
              "      </button>\n",
              "      \n",
              "  <style>\n",
              "    .colab-df-container {\n",
              "      display:flex;\n",
              "      flex-wrap:wrap;\n",
              "      gap: 12px;\n",
              "    }\n",
              "\n",
              "    .colab-df-convert {\n",
              "      background-color: #E8F0FE;\n",
              "      border: none;\n",
              "      border-radius: 50%;\n",
              "      cursor: pointer;\n",
              "      display: none;\n",
              "      fill: #1967D2;\n",
              "      height: 32px;\n",
              "      padding: 0 0 0 0;\n",
              "      width: 32px;\n",
              "    }\n",
              "\n",
              "    .colab-df-convert:hover {\n",
              "      background-color: #E2EBFA;\n",
              "      box-shadow: 0px 1px 2px rgba(60, 64, 67, 0.3), 0px 1px 3px 1px rgba(60, 64, 67, 0.15);\n",
              "      fill: #174EA6;\n",
              "    }\n",
              "\n",
              "    [theme=dark] .colab-df-convert {\n",
              "      background-color: #3B4455;\n",
              "      fill: #D2E3FC;\n",
              "    }\n",
              "\n",
              "    [theme=dark] .colab-df-convert:hover {\n",
              "      background-color: #434B5C;\n",
              "      box-shadow: 0px 1px 3px 1px rgba(0, 0, 0, 0.15);\n",
              "      filter: drop-shadow(0px 1px 2px rgba(0, 0, 0, 0.3));\n",
              "      fill: #FFFFFF;\n",
              "    }\n",
              "  </style>\n",
              "\n",
              "      <script>\n",
              "        const buttonEl =\n",
              "          document.querySelector('#df-694951e8-429f-4eb0-8fa5-96305b09a0ec button.colab-df-convert');\n",
              "        buttonEl.style.display =\n",
              "          google.colab.kernel.accessAllowed ? 'block' : 'none';\n",
              "\n",
              "        async function convertToInteractive(key) {\n",
              "          const element = document.querySelector('#df-694951e8-429f-4eb0-8fa5-96305b09a0ec');\n",
              "          const dataTable =\n",
              "            await google.colab.kernel.invokeFunction('convertToInteractive',\n",
              "                                                     [key], {});\n",
              "          if (!dataTable) return;\n",
              "\n",
              "          const docLinkHtml = 'Like what you see? Visit the ' +\n",
              "            '<a target=\"_blank\" href=https://colab.research.google.com/notebooks/data_table.ipynb>data table notebook</a>'\n",
              "            + ' to learn more about interactive tables.';\n",
              "          element.innerHTML = '';\n",
              "          dataTable['output_type'] = 'display_data';\n",
              "          await google.colab.output.renderOutput(dataTable, element);\n",
              "          const docLink = document.createElement('div');\n",
              "          docLink.innerHTML = docLinkHtml;\n",
              "          element.appendChild(docLink);\n",
              "        }\n",
              "      </script>\n",
              "    </div>\n",
              "  </div>\n",
              "  "
            ]
          },
          "metadata": {},
          "execution_count": 140
        }
      ]
    },
    {
      "cell_type": "markdown",
      "source": [
        "## Data cleaning "
      ],
      "metadata": {
        "id": "zggVdV6heVU0"
      }
    },
    {
      "cell_type": "markdown",
      "source": [
        "## Feature engineering \n",
        "\n"
      ],
      "metadata": {
        "id": "jjGNWbqI3S8-"
      }
    },
    {
      "cell_type": "code",
      "source": [
        "import numpy as np\n",
        "import pandas as pd\n",
        "from sklearn.preprocessing import LabelEncoder\n",
        "from sklearn.preprocessing import StandardScaler\n",
        "#from utils.tenure_lab import tenure_lab\n",
        "\n",
        "class FeaturePipe: \n",
        "  def __init__(self):\n",
        "    self.scaler = StandardScaler()\n",
        "\n",
        "  def feature_engineering(self, telcom, test_set =False):\n",
        "    \"\"\"\n",
        "    Takes in dataframe from file and performs feature engineering.\n",
        "    Outputs dataframe with features, scaled dataframe, columns for modelling and target column.\n",
        "    \"\"\"\n",
        "\n",
        "    #Replacing spaces with null values in total charges column\n",
        "    telcom['TotalCharges'] = telcom[\"TotalCharges\"].replace(\" \",np.nan)\n",
        "\n",
        "    #Dropping null values from total charges column which contain .15% missing data \n",
        "    telcom = telcom[telcom[\"TotalCharges\"].notnull()]\n",
        "    telcom = telcom.reset_index()[telcom.columns]\n",
        "\n",
        "    #convert to float type\n",
        "    telcom[\"TotalCharges\"] = telcom[\"TotalCharges\"].astype(float)\n",
        "\n",
        "    #replace 'No internet service' to No for the following columns\n",
        "    replace_cols = [ 'OnlineSecurity', 'OnlineBackup', 'DeviceProtection', 'TechSupport','StreamingTV', 'StreamingMovies']\n",
        "\n",
        "    for i in replace_cols:\n",
        "      telcom[i]  = telcom[i].replace({'No internet service' : 'No'})\n",
        "\n",
        "    #replace values\n",
        "    telcom[\"SeniorCitizen\"] = telcom[\"SeniorCitizen\"].replace({1:\"Yes\",0:\"No\"})\n",
        "\n",
        "    #telcom[\"tenure_group\"] = telcom.apply(lambda telcom:tenure_lab(telcom), axis = 1)\n",
        "\n",
        "    #Separating churn and non churn customers\n",
        "    churn     = telcom[telcom[\"Churn\"] == \"Yes\"]\n",
        "    not_churn = telcom[telcom[\"Churn\"] == \"No\"]\n",
        "\n",
        "    #Separating catagorical and numerical columns\n",
        "    Id_col     = ['customerID']\n",
        "    target_col = [\"Churn\"]\n",
        "    cat_cols   = telcom.nunique()[telcom.nunique() < 6].keys().tolist()\n",
        "    cat_cols   = [x for x in cat_cols if x not in target_col]\n",
        "    num_cols   = [x for x in telcom.columns if x not in cat_cols + target_col + Id_col]\n",
        "\n",
        "    #customer id col\n",
        "    Id_col     = ['customerID']\n",
        "    #Target columns\n",
        "    target_col = [\"Churn\"]\n",
        "    #categorical columns\n",
        "    cat_cols   = telcom.nunique()[telcom.nunique() < 6].keys().tolist()\n",
        "    cat_cols   = [x for x in cat_cols if x not in target_col]\n",
        "    #numerical columns\n",
        "    num_cols   = [x for x in telcom.columns if x not in cat_cols + target_col + Id_col]\n",
        "    #Binary columns with 2 values\n",
        "    bin_cols   = telcom.nunique()[telcom.nunique() == 2].keys().tolist()\n",
        "    #Columns more than 2 values\n",
        "    multi_cols = [i for i in cat_cols if i not in bin_cols]\n",
        "\n",
        "    #Label encoding Binary columns\n",
        "    le = LabelEncoder()\n",
        "    for i in bin_cols :\n",
        "      telcom[i] = le.fit_transform(telcom[i])\n",
        "\n",
        "    #Duplicating columns for multi value columns\n",
        "    telcom = pd.get_dummies(data = telcom,columns = multi_cols )\n",
        "\n",
        "    #Scaling Numerical columns\n",
        "    if test_set ==False: \n",
        "      scaled = self.scaler.fit_transform(telcom[num_cols])\n",
        "    else: \n",
        "      scaled = self.scaler.transform(telcom[num_cols])\n",
        "\n",
        "    telcom[num_cols] = pd.DataFrame(scaled,columns=num_cols)\n",
        "\n",
        "    return [telcom, Id_col, target_col, cat_cols, multi_cols, num_cols]"
      ],
      "metadata": {
        "id": "eCvYJXSx3RaC"
      },
      "execution_count": null,
      "outputs": []
    },
    {
      "cell_type": "code",
      "source": [
        "featurepipe = FeaturePipe()\n",
        "\n",
        "train_val_feature_engineered, id_col, target_col,cat_cols, multi_cols, num_cols =featurepipe.feature_engineering(train_val_data)\n"
      ],
      "metadata": {
        "id": "DJsHeeCO3u2R"
      },
      "execution_count": null,
      "outputs": []
    },
    {
      "cell_type": "code",
      "source": [
        "train_val_feature_engineered.head()"
      ],
      "metadata": {
        "colab": {
          "base_uri": "https://localhost:8080/",
          "height": 369
        },
        "id": "EPRvwCjN5jJI",
        "outputId": "e799f36e-3136-4c7d-d834-6488b8303f88"
      },
      "execution_count": null,
      "outputs": [
        {
          "output_type": "execute_result",
          "data": {
            "text/plain": [
              "   customerID  gender  SeniorCitizen  Partner  Dependents    tenure  \\\n",
              "0  4223-BKEOR       0              0        0           1 -0.468357   \n",
              "1  6035-RIIOM       0              0        0           0  0.883777   \n",
              "2  3797-VTIDR       1              0        1           0 -1.287832   \n",
              "3  2568-BRGYX       1              0        0           0 -1.164911   \n",
              "4  4291-SHSBH       1              0        0           0 -1.041990   \n",
              "\n",
              "   PhoneService  OnlineSecurity  OnlineBackup  DeviceProtection  ...  \\\n",
              "0             1               1             0                 1  ...   \n",
              "1             1               0             1                 0  ...   \n",
              "2             0               0             0                 0  ...   \n",
              "3             1               0             0                 0  ...   \n",
              "4             1               0             0                 0  ...   \n",
              "\n",
              "   InternetService_DSL  InternetService_Fiber optic  InternetService_No  \\\n",
              "0                    1                            0                   0   \n",
              "1                    0                            1                   0   \n",
              "2                    1                            0                   0   \n",
              "3                    0                            1                   0   \n",
              "4                    0                            1                   0   \n",
              "\n",
              "   Contract_Month-to-month  Contract_One year  Contract_Two year  \\\n",
              "0                        0                  1                  0   \n",
              "1                        0                  0                  1   \n",
              "2                        1                  0                  0   \n",
              "3                        1                  0                  0   \n",
              "4                        1                  0                  0   \n",
              "\n",
              "   PaymentMethod_Bank transfer (automatic)  \\\n",
              "0                                        0   \n",
              "1                                        1   \n",
              "2                                        0   \n",
              "3                                        0   \n",
              "4                                        0   \n",
              "\n",
              "   PaymentMethod_Credit card (automatic)  PaymentMethod_Electronic check  \\\n",
              "0                                      0                               0   \n",
              "1                                      0                               0   \n",
              "2                                      0                               1   \n",
              "3                                      0                               1   \n",
              "4                                      0                               1   \n",
              "\n",
              "   PaymentMethod_Mailed check  \n",
              "0                           1  \n",
              "1                           0  \n",
              "2                           0  \n",
              "3                           0  \n",
              "4                           0  \n",
              "\n",
              "[5 rows x 30 columns]"
            ],
            "text/html": [
              "\n",
              "  <div id=\"df-4d77b6ac-95aa-44ca-9b69-048bff770e09\">\n",
              "    <div class=\"colab-df-container\">\n",
              "      <div>\n",
              "<style scoped>\n",
              "    .dataframe tbody tr th:only-of-type {\n",
              "        vertical-align: middle;\n",
              "    }\n",
              "\n",
              "    .dataframe tbody tr th {\n",
              "        vertical-align: top;\n",
              "    }\n",
              "\n",
              "    .dataframe thead th {\n",
              "        text-align: right;\n",
              "    }\n",
              "</style>\n",
              "<table border=\"1\" class=\"dataframe\">\n",
              "  <thead>\n",
              "    <tr style=\"text-align: right;\">\n",
              "      <th></th>\n",
              "      <th>customerID</th>\n",
              "      <th>gender</th>\n",
              "      <th>SeniorCitizen</th>\n",
              "      <th>Partner</th>\n",
              "      <th>Dependents</th>\n",
              "      <th>tenure</th>\n",
              "      <th>PhoneService</th>\n",
              "      <th>OnlineSecurity</th>\n",
              "      <th>OnlineBackup</th>\n",
              "      <th>DeviceProtection</th>\n",
              "      <th>...</th>\n",
              "      <th>InternetService_DSL</th>\n",
              "      <th>InternetService_Fiber optic</th>\n",
              "      <th>InternetService_No</th>\n",
              "      <th>Contract_Month-to-month</th>\n",
              "      <th>Contract_One year</th>\n",
              "      <th>Contract_Two year</th>\n",
              "      <th>PaymentMethod_Bank transfer (automatic)</th>\n",
              "      <th>PaymentMethod_Credit card (automatic)</th>\n",
              "      <th>PaymentMethod_Electronic check</th>\n",
              "      <th>PaymentMethod_Mailed check</th>\n",
              "    </tr>\n",
              "  </thead>\n",
              "  <tbody>\n",
              "    <tr>\n",
              "      <th>0</th>\n",
              "      <td>4223-BKEOR</td>\n",
              "      <td>0</td>\n",
              "      <td>0</td>\n",
              "      <td>0</td>\n",
              "      <td>1</td>\n",
              "      <td>-0.468357</td>\n",
              "      <td>1</td>\n",
              "      <td>1</td>\n",
              "      <td>0</td>\n",
              "      <td>1</td>\n",
              "      <td>...</td>\n",
              "      <td>1</td>\n",
              "      <td>0</td>\n",
              "      <td>0</td>\n",
              "      <td>0</td>\n",
              "      <td>1</td>\n",
              "      <td>0</td>\n",
              "      <td>0</td>\n",
              "      <td>0</td>\n",
              "      <td>0</td>\n",
              "      <td>1</td>\n",
              "    </tr>\n",
              "    <tr>\n",
              "      <th>1</th>\n",
              "      <td>6035-RIIOM</td>\n",
              "      <td>0</td>\n",
              "      <td>0</td>\n",
              "      <td>0</td>\n",
              "      <td>0</td>\n",
              "      <td>0.883777</td>\n",
              "      <td>1</td>\n",
              "      <td>0</td>\n",
              "      <td>1</td>\n",
              "      <td>0</td>\n",
              "      <td>...</td>\n",
              "      <td>0</td>\n",
              "      <td>1</td>\n",
              "      <td>0</td>\n",
              "      <td>0</td>\n",
              "      <td>0</td>\n",
              "      <td>1</td>\n",
              "      <td>1</td>\n",
              "      <td>0</td>\n",
              "      <td>0</td>\n",
              "      <td>0</td>\n",
              "    </tr>\n",
              "    <tr>\n",
              "      <th>2</th>\n",
              "      <td>3797-VTIDR</td>\n",
              "      <td>1</td>\n",
              "      <td>0</td>\n",
              "      <td>1</td>\n",
              "      <td>0</td>\n",
              "      <td>-1.287832</td>\n",
              "      <td>0</td>\n",
              "      <td>0</td>\n",
              "      <td>0</td>\n",
              "      <td>0</td>\n",
              "      <td>...</td>\n",
              "      <td>1</td>\n",
              "      <td>0</td>\n",
              "      <td>0</td>\n",
              "      <td>1</td>\n",
              "      <td>0</td>\n",
              "      <td>0</td>\n",
              "      <td>0</td>\n",
              "      <td>0</td>\n",
              "      <td>1</td>\n",
              "      <td>0</td>\n",
              "    </tr>\n",
              "    <tr>\n",
              "      <th>3</th>\n",
              "      <td>2568-BRGYX</td>\n",
              "      <td>1</td>\n",
              "      <td>0</td>\n",
              "      <td>0</td>\n",
              "      <td>0</td>\n",
              "      <td>-1.164911</td>\n",
              "      <td>1</td>\n",
              "      <td>0</td>\n",
              "      <td>0</td>\n",
              "      <td>0</td>\n",
              "      <td>...</td>\n",
              "      <td>0</td>\n",
              "      <td>1</td>\n",
              "      <td>0</td>\n",
              "      <td>1</td>\n",
              "      <td>0</td>\n",
              "      <td>0</td>\n",
              "      <td>0</td>\n",
              "      <td>0</td>\n",
              "      <td>1</td>\n",
              "      <td>0</td>\n",
              "    </tr>\n",
              "    <tr>\n",
              "      <th>4</th>\n",
              "      <td>4291-SHSBH</td>\n",
              "      <td>1</td>\n",
              "      <td>0</td>\n",
              "      <td>0</td>\n",
              "      <td>0</td>\n",
              "      <td>-1.041990</td>\n",
              "      <td>1</td>\n",
              "      <td>0</td>\n",
              "      <td>0</td>\n",
              "      <td>0</td>\n",
              "      <td>...</td>\n",
              "      <td>0</td>\n",
              "      <td>1</td>\n",
              "      <td>0</td>\n",
              "      <td>1</td>\n",
              "      <td>0</td>\n",
              "      <td>0</td>\n",
              "      <td>0</td>\n",
              "      <td>0</td>\n",
              "      <td>1</td>\n",
              "      <td>0</td>\n",
              "    </tr>\n",
              "  </tbody>\n",
              "</table>\n",
              "<p>5 rows × 30 columns</p>\n",
              "</div>\n",
              "      <button class=\"colab-df-convert\" onclick=\"convertToInteractive('df-4d77b6ac-95aa-44ca-9b69-048bff770e09')\"\n",
              "              title=\"Convert this dataframe to an interactive table.\"\n",
              "              style=\"display:none;\">\n",
              "        \n",
              "  <svg xmlns=\"http://www.w3.org/2000/svg\" height=\"24px\"viewBox=\"0 0 24 24\"\n",
              "       width=\"24px\">\n",
              "    <path d=\"M0 0h24v24H0V0z\" fill=\"none\"/>\n",
              "    <path d=\"M18.56 5.44l.94 2.06.94-2.06 2.06-.94-2.06-.94-.94-2.06-.94 2.06-2.06.94zm-11 1L8.5 8.5l.94-2.06 2.06-.94-2.06-.94L8.5 2.5l-.94 2.06-2.06.94zm10 10l.94 2.06.94-2.06 2.06-.94-2.06-.94-.94-2.06-.94 2.06-2.06.94z\"/><path d=\"M17.41 7.96l-1.37-1.37c-.4-.4-.92-.59-1.43-.59-.52 0-1.04.2-1.43.59L10.3 9.45l-7.72 7.72c-.78.78-.78 2.05 0 2.83L4 21.41c.39.39.9.59 1.41.59.51 0 1.02-.2 1.41-.59l7.78-7.78 2.81-2.81c.8-.78.8-2.07 0-2.86zM5.41 20L4 18.59l7.72-7.72 1.47 1.35L5.41 20z\"/>\n",
              "  </svg>\n",
              "      </button>\n",
              "      \n",
              "  <style>\n",
              "    .colab-df-container {\n",
              "      display:flex;\n",
              "      flex-wrap:wrap;\n",
              "      gap: 12px;\n",
              "    }\n",
              "\n",
              "    .colab-df-convert {\n",
              "      background-color: #E8F0FE;\n",
              "      border: none;\n",
              "      border-radius: 50%;\n",
              "      cursor: pointer;\n",
              "      display: none;\n",
              "      fill: #1967D2;\n",
              "      height: 32px;\n",
              "      padding: 0 0 0 0;\n",
              "      width: 32px;\n",
              "    }\n",
              "\n",
              "    .colab-df-convert:hover {\n",
              "      background-color: #E2EBFA;\n",
              "      box-shadow: 0px 1px 2px rgba(60, 64, 67, 0.3), 0px 1px 3px 1px rgba(60, 64, 67, 0.15);\n",
              "      fill: #174EA6;\n",
              "    }\n",
              "\n",
              "    [theme=dark] .colab-df-convert {\n",
              "      background-color: #3B4455;\n",
              "      fill: #D2E3FC;\n",
              "    }\n",
              "\n",
              "    [theme=dark] .colab-df-convert:hover {\n",
              "      background-color: #434B5C;\n",
              "      box-shadow: 0px 1px 3px 1px rgba(0, 0, 0, 0.15);\n",
              "      filter: drop-shadow(0px 1px 2px rgba(0, 0, 0, 0.3));\n",
              "      fill: #FFFFFF;\n",
              "    }\n",
              "  </style>\n",
              "\n",
              "      <script>\n",
              "        const buttonEl =\n",
              "          document.querySelector('#df-4d77b6ac-95aa-44ca-9b69-048bff770e09 button.colab-df-convert');\n",
              "        buttonEl.style.display =\n",
              "          google.colab.kernel.accessAllowed ? 'block' : 'none';\n",
              "\n",
              "        async function convertToInteractive(key) {\n",
              "          const element = document.querySelector('#df-4d77b6ac-95aa-44ca-9b69-048bff770e09');\n",
              "          const dataTable =\n",
              "            await google.colab.kernel.invokeFunction('convertToInteractive',\n",
              "                                                     [key], {});\n",
              "          if (!dataTable) return;\n",
              "\n",
              "          const docLinkHtml = 'Like what you see? Visit the ' +\n",
              "            '<a target=\"_blank\" href=https://colab.research.google.com/notebooks/data_table.ipynb>data table notebook</a>'\n",
              "            + ' to learn more about interactive tables.';\n",
              "          element.innerHTML = '';\n",
              "          dataTable['output_type'] = 'display_data';\n",
              "          await google.colab.output.renderOutput(dataTable, element);\n",
              "          const docLink = document.createElement('div');\n",
              "          docLink.innerHTML = docLinkHtml;\n",
              "          element.appendChild(docLink);\n",
              "        }\n",
              "      </script>\n",
              "    </div>\n",
              "  </div>\n",
              "  "
            ]
          },
          "metadata": {},
          "execution_count": 71
        }
      ]
    },
    {
      "cell_type": "markdown",
      "source": [
        "## Split into train and validation set for training "
      ],
      "metadata": {
        "id": "v526JCf6874W"
      }
    },
    {
      "cell_type": "code",
      "source": [
        "val_test_size = 0.2\n",
        "\n",
        "train , val = train_test_split(train_val_feature_engineered,                       \n",
        "                                 test_size = holdout_test_size, \n",
        "                                 shuffle= True, \n",
        "                                 random_state =seed)\n"
      ],
      "metadata": {
        "id": "J4ez9Mlx5WrB"
      },
      "execution_count": null,
      "outputs": []
    },
    {
      "cell_type": "code",
      "source": [
        "X_cols = train_val_feature_engineered.columns.values.tolist() \n",
        "X_cols.remove('Churn')\n",
        "X_cols.remove('customerID')\n",
        "\n",
        "X_train = train[X_cols]\n",
        "y_train = train[target_col[0]]\n",
        "X_val = val[X_cols]\n",
        "y_val = val[target_col[0]]"
      ],
      "metadata": {
        "id": "7Q0eMaXh8m15"
      },
      "execution_count": null,
      "outputs": []
    },
    {
      "cell_type": "markdown",
      "source": [
        "## Train and evaluate model"
      ],
      "metadata": {
        "id": "OdlF7nD9eYMb"
      }
    },
    {
      "cell_type": "code",
      "source": [
        "\n",
        "from xgboost import XGBClassifier\n",
        "\n",
        "xgc = XGBClassifier(objective=\"binary:logistic\")\n",
        "\n",
        "model = xgc.fit(X_train, y_train, eval_set=[(X_train, y_train), (X_val, y_val)], eval_metric=['error', 'logloss'], verbose=10)\n"
      ],
      "metadata": {
        "colab": {
          "base_uri": "https://localhost:8080/"
        },
        "id": "x8F-2JPIEXko",
        "outputId": "b218fd58-7866-4c86-e6d7-609699b88e26"
      },
      "execution_count": null,
      "outputs": [
        {
          "output_type": "stream",
          "name": "stdout",
          "text": [
            "[0]\tvalidation_0-error:0.209602\tvalidation_0-logloss:0.651789\tvalidation_1-error:0.218667\tvalidation_1-logloss:0.65591\n",
            "[10]\tvalidation_0-error:0.200711\tvalidation_0-logloss:0.472714\tvalidation_1-error:0.218667\tvalidation_1-logloss:0.501612\n",
            "[20]\tvalidation_0-error:0.197377\tvalidation_0-logloss:0.424871\tvalidation_1-error:0.222222\tvalidation_1-logloss:0.465407\n",
            "[30]\tvalidation_0-error:0.18982\tvalidation_0-logloss:0.405829\tvalidation_1-error:0.219556\tvalidation_1-logloss:0.455095\n",
            "[40]\tvalidation_0-error:0.186264\tvalidation_0-logloss:0.395687\tvalidation_1-error:0.212444\tvalidation_1-logloss:0.450929\n",
            "[50]\tvalidation_0-error:0.184041\tvalidation_0-logloss:0.389465\tvalidation_1-error:0.214222\tvalidation_1-logloss:0.451267\n",
            "[60]\tvalidation_0-error:0.184263\tvalidation_0-logloss:0.384863\tvalidation_1-error:0.216889\tvalidation_1-logloss:0.452727\n",
            "[70]\tvalidation_0-error:0.181818\tvalidation_0-logloss:0.381242\tvalidation_1-error:0.214222\tvalidation_1-logloss:0.454149\n",
            "[80]\tvalidation_0-error:0.181596\tvalidation_0-logloss:0.377843\tvalidation_1-error:0.216889\tvalidation_1-logloss:0.456069\n",
            "[90]\tvalidation_0-error:0.180262\tvalidation_0-logloss:0.375581\tvalidation_1-error:0.217778\tvalidation_1-logloss:0.457186\n",
            "[99]\tvalidation_0-error:0.178706\tvalidation_0-logloss:0.372974\tvalidation_1-error:0.217778\tvalidation_1-logloss:0.458192\n"
          ]
        }
      ]
    },
    {
      "cell_type": "markdown",
      "source": [
        "### *Task: How can we make this better?*"
      ],
      "metadata": {
        "id": "kDXYSK3EMuNl"
      }
    },
    {
      "cell_type": "markdown",
      "source": [
        "### LightGBM model"
      ],
      "metadata": {
        "id": "UUKNFqRaIvwn"
      }
    },
    {
      "cell_type": "code",
      "source": [
        "import lightgbm as lgb\n",
        "from sklearn.model_selection import GridSearchCV\n"
      ],
      "metadata": {
        "id": "yEcoN8OYkaRa"
      },
      "execution_count": null,
      "outputs": []
    },
    {
      "cell_type": "code",
      "source": [
        "## Use only if LightGBM\n",
        "\n",
        "not_num_cols = [i for i in train_val_feature_engineered.columns if i not in num_cols + target_col + id_col]\n",
        "not_num_cols"
      ],
      "metadata": {
        "colab": {
          "base_uri": "https://localhost:8080/"
        },
        "id": "xghvTvzOF9wo",
        "outputId": "153a2be5-c4f0-4e97-ad1a-4ab768ea3f4f"
      },
      "execution_count": null,
      "outputs": [
        {
          "output_type": "execute_result",
          "data": {
            "text/plain": [
              "['gender',\n",
              " 'SeniorCitizen',\n",
              " 'Partner',\n",
              " 'Dependents',\n",
              " 'PhoneService',\n",
              " 'OnlineSecurity',\n",
              " 'OnlineBackup',\n",
              " 'DeviceProtection',\n",
              " 'TechSupport',\n",
              " 'StreamingTV',\n",
              " 'StreamingMovies',\n",
              " 'PaperlessBilling',\n",
              " 'MultipleLines_No',\n",
              " 'MultipleLines_No phone service',\n",
              " 'MultipleLines_Yes',\n",
              " 'InternetService_DSL',\n",
              " 'InternetService_Fiber optic',\n",
              " 'InternetService_No',\n",
              " 'Contract_Month-to-month',\n",
              " 'Contract_One year',\n",
              " 'Contract_Two year',\n",
              " 'PaymentMethod_Bank transfer (automatic)',\n",
              " 'PaymentMethod_Credit card (automatic)',\n",
              " 'PaymentMethod_Electronic check',\n",
              " 'PaymentMethod_Mailed check']"
            ]
          },
          "metadata": {},
          "execution_count": 84
        }
      ]
    },
    {
      "cell_type": "code",
      "source": [
        "X_train_lgb = X_train\n",
        "X_val_lgb = X_val \n",
        "X_train_lgb[not_num_cols] = X_train_lgb[not_num_cols].astype('category')\n",
        "X_val_lgb[not_num_cols] = X_val_lgb[not_num_cols].astype('category')\n",
        "y_train  =y_train.astype('category')\n",
        "y_val  =y_val.astype('category')\n",
        "\n",
        "lgb_train_set = lgb.Dataset(X_train_lgb,label= y_train) #, categorical_feature= cat_cols)\n",
        "lgb_val_set = lgb.Dataset(X_val_lgb,label= y_val) #, categorical_feature= cat_cols)"
      ],
      "metadata": {
        "id": "tA2qS0yhl4QH",
        "colab": {
          "base_uri": "https://localhost:8080/"
        },
        "outputId": "f97ff639-8895-42e5-b54c-7dc35a02107d"
      },
      "execution_count": null,
      "outputs": [
        {
          "output_type": "stream",
          "name": "stderr",
          "text": [
            "\n",
            "A value is trying to be set on a copy of a slice from a DataFrame.\n",
            "Try using .loc[row_indexer,col_indexer] = value instead\n",
            "\n",
            "See the caveats in the documentation: https://pandas.pydata.org/pandas-docs/stable/user_guide/indexing.html#returning-a-view-versus-a-copy\n"
          ]
        }
      ]
    },
    {
      "cell_type": "code",
      "source": [
        "X_val_lgb.info()"
      ],
      "metadata": {
        "colab": {
          "base_uri": "https://localhost:8080/"
        },
        "id": "cOAJvuI1H62C",
        "outputId": "c650f3cc-601a-48f9-ede3-2d373aac358c"
      },
      "execution_count": null,
      "outputs": [
        {
          "output_type": "stream",
          "name": "stdout",
          "text": [
            "<class 'pandas.core.frame.DataFrame'>\n",
            "Int64Index: 1125 entries, 3494 to 291\n",
            "Data columns (total 28 columns):\n",
            " #   Column                                   Non-Null Count  Dtype   \n",
            "---  ------                                   --------------  -----   \n",
            " 0   gender                                   1125 non-null   category\n",
            " 1   SeniorCitizen                            1125 non-null   category\n",
            " 2   Partner                                  1125 non-null   category\n",
            " 3   Dependents                               1125 non-null   category\n",
            " 4   tenure                                   1125 non-null   float64 \n",
            " 5   PhoneService                             1125 non-null   category\n",
            " 6   OnlineSecurity                           1125 non-null   category\n",
            " 7   OnlineBackup                             1125 non-null   category\n",
            " 8   DeviceProtection                         1125 non-null   category\n",
            " 9   TechSupport                              1125 non-null   category\n",
            " 10  StreamingTV                              1125 non-null   category\n",
            " 11  StreamingMovies                          1125 non-null   category\n",
            " 12  PaperlessBilling                         1125 non-null   category\n",
            " 13  MonthlyCharges                           1125 non-null   float64 \n",
            " 14  TotalCharges                             1125 non-null   float64 \n",
            " 15  MultipleLines_No                         1125 non-null   category\n",
            " 16  MultipleLines_No phone service           1125 non-null   category\n",
            " 17  MultipleLines_Yes                        1125 non-null   category\n",
            " 18  InternetService_DSL                      1125 non-null   category\n",
            " 19  InternetService_Fiber optic              1125 non-null   category\n",
            " 20  InternetService_No                       1125 non-null   category\n",
            " 21  Contract_Month-to-month                  1125 non-null   category\n",
            " 22  Contract_One year                        1125 non-null   category\n",
            " 23  Contract_Two year                        1125 non-null   category\n",
            " 24  PaymentMethod_Bank transfer (automatic)  1125 non-null   category\n",
            " 25  PaymentMethod_Credit card (automatic)    1125 non-null   category\n",
            " 26  PaymentMethod_Electronic check           1125 non-null   category\n",
            " 27  PaymentMethod_Mailed check               1125 non-null   category\n",
            "dtypes: category(25), float64(3)\n",
            "memory usage: 65.6 KB\n"
          ]
        }
      ]
    },
    {
      "cell_type": "code",
      "source": [
        "# Set hyperparameters \n",
        "\n",
        "params = {\n",
        "        \"objective\" : \"binary\",\n",
        "        #\"metric\" :\"logloss\",\n",
        "        #\"force_row_wise\" : False,\n",
        "        \"learning_rate\" : 0.075,\n",
        "        \"sub_feature\" : 0.8,\n",
        "        \"sub_row\" : 0.75,\n",
        "        \"bagging_freq\" : 1,\n",
        "        \"lambda_l2\" : 0.1,\n",
        "         \"nthread\" : 4,\n",
        "        #\"eval_metric\": [\"logloss\"],\n",
        "    'verbosity': 2,\n",
        "    'num_iterations' : 3000, \n",
        "    }\n",
        "  \n"
      ],
      "metadata": {
        "id": "cupOQF6FmMyE"
      },
      "execution_count": null,
      "outputs": []
    },
    {
      "cell_type": "code",
      "source": [
        "#train model \n",
        "lgbm_model = lgb.train(params, train_set = lgb_train_set, \n",
        "                       num_boost_round = 2000,\n",
        "                       early_stopping_rounds = 200, \n",
        "                       valid_sets =  lgb_val_set, \n",
        "                       verbose_eval = 1)"
      ],
      "metadata": {
        "colab": {
          "base_uri": "https://localhost:8080/"
        },
        "id": "Pzv1Ztvel-vb",
        "outputId": "5184597c-da1d-4598-c233-73ca385afedd"
      },
      "execution_count": null,
      "outputs": [
        {
          "output_type": "stream",
          "name": "stderr",
          "text": [
            "Found `num_iterations` in params. Will use it instead of argument\n"
          ]
        },
        {
          "output_type": "stream",
          "name": "stdout",
          "text": [
            "[1]\tvalid_0's binary_logloss: 0.588196\n",
            "Training until validation scores don't improve for 200 rounds.\n",
            "[2]\tvalid_0's binary_logloss: 0.569212\n",
            "[3]\tvalid_0's binary_logloss: 0.552722\n",
            "[4]\tvalid_0's binary_logloss: 0.53955\n",
            "[5]\tvalid_0's binary_logloss: 0.527842\n",
            "[6]\tvalid_0's binary_logloss: 0.518684\n",
            "[7]\tvalid_0's binary_logloss: 0.50956\n",
            "[8]\tvalid_0's binary_logloss: 0.502294\n",
            "[9]\tvalid_0's binary_logloss: 0.496655\n",
            "[10]\tvalid_0's binary_logloss: 0.490681\n",
            "[11]\tvalid_0's binary_logloss: 0.485335\n",
            "[12]\tvalid_0's binary_logloss: 0.480532\n",
            "[13]\tvalid_0's binary_logloss: 0.477098\n",
            "[14]\tvalid_0's binary_logloss: 0.474196\n",
            "[15]\tvalid_0's binary_logloss: 0.470949\n",
            "[16]\tvalid_0's binary_logloss: 0.468026\n",
            "[17]\tvalid_0's binary_logloss: 0.466748\n",
            "[18]\tvalid_0's binary_logloss: 0.465257\n",
            "[19]\tvalid_0's binary_logloss: 0.464078\n",
            "[20]\tvalid_0's binary_logloss: 0.462177\n",
            "[21]\tvalid_0's binary_logloss: 0.461251\n",
            "[22]\tvalid_0's binary_logloss: 0.460663\n",
            "[23]\tvalid_0's binary_logloss: 0.459347\n",
            "[24]\tvalid_0's binary_logloss: 0.459325\n",
            "[25]\tvalid_0's binary_logloss: 0.458499\n",
            "[26]\tvalid_0's binary_logloss: 0.457487\n",
            "[27]\tvalid_0's binary_logloss: 0.456282\n",
            "[28]\tvalid_0's binary_logloss: 0.455731\n",
            "[29]\tvalid_0's binary_logloss: 0.455705\n",
            "[30]\tvalid_0's binary_logloss: 0.454296\n",
            "[31]\tvalid_0's binary_logloss: 0.45437\n",
            "[32]\tvalid_0's binary_logloss: 0.454523\n",
            "[33]\tvalid_0's binary_logloss: 0.454658\n",
            "[34]\tvalid_0's binary_logloss: 0.455\n",
            "[35]\tvalid_0's binary_logloss: 0.455984\n",
            "[36]\tvalid_0's binary_logloss: 0.456513\n",
            "[37]\tvalid_0's binary_logloss: 0.456452\n",
            "[38]\tvalid_0's binary_logloss: 0.456283\n",
            "[39]\tvalid_0's binary_logloss: 0.45631\n",
            "[40]\tvalid_0's binary_logloss: 0.456604\n",
            "[41]\tvalid_0's binary_logloss: 0.456797\n",
            "[42]\tvalid_0's binary_logloss: 0.457231\n",
            "[43]\tvalid_0's binary_logloss: 0.457634\n",
            "[44]\tvalid_0's binary_logloss: 0.457516\n",
            "[45]\tvalid_0's binary_logloss: 0.457464\n",
            "[46]\tvalid_0's binary_logloss: 0.457438\n",
            "[47]\tvalid_0's binary_logloss: 0.457648\n",
            "[48]\tvalid_0's binary_logloss: 0.457655\n",
            "[49]\tvalid_0's binary_logloss: 0.457888\n",
            "[50]\tvalid_0's binary_logloss: 0.457915\n",
            "[51]\tvalid_0's binary_logloss: 0.458402\n",
            "[52]\tvalid_0's binary_logloss: 0.458514\n",
            "[53]\tvalid_0's binary_logloss: 0.45881\n",
            "[54]\tvalid_0's binary_logloss: 0.458499\n",
            "[55]\tvalid_0's binary_logloss: 0.459043\n",
            "[56]\tvalid_0's binary_logloss: 0.459676\n",
            "[57]\tvalid_0's binary_logloss: 0.459723\n",
            "[58]\tvalid_0's binary_logloss: 0.460677\n",
            "[59]\tvalid_0's binary_logloss: 0.461223\n",
            "[60]\tvalid_0's binary_logloss: 0.461407\n",
            "[61]\tvalid_0's binary_logloss: 0.461783\n",
            "[62]\tvalid_0's binary_logloss: 0.462153\n",
            "[63]\tvalid_0's binary_logloss: 0.462709\n",
            "[64]\tvalid_0's binary_logloss: 0.463027\n",
            "[65]\tvalid_0's binary_logloss: 0.462967\n",
            "[66]\tvalid_0's binary_logloss: 0.463718\n",
            "[67]\tvalid_0's binary_logloss: 0.463903\n",
            "[68]\tvalid_0's binary_logloss: 0.464163\n",
            "[69]\tvalid_0's binary_logloss: 0.464822\n",
            "[70]\tvalid_0's binary_logloss: 0.465294\n",
            "[71]\tvalid_0's binary_logloss: 0.465122\n",
            "[72]\tvalid_0's binary_logloss: 0.465411\n",
            "[73]\tvalid_0's binary_logloss: 0.465725\n",
            "[74]\tvalid_0's binary_logloss: 0.46665\n",
            "[75]\tvalid_0's binary_logloss: 0.467122\n",
            "[76]\tvalid_0's binary_logloss: 0.467538\n",
            "[77]\tvalid_0's binary_logloss: 0.467415\n",
            "[78]\tvalid_0's binary_logloss: 0.467224\n",
            "[79]\tvalid_0's binary_logloss: 0.467045\n",
            "[80]\tvalid_0's binary_logloss: 0.467805\n",
            "[81]\tvalid_0's binary_logloss: 0.467518\n",
            "[82]\tvalid_0's binary_logloss: 0.46745\n",
            "[83]\tvalid_0's binary_logloss: 0.46732\n",
            "[84]\tvalid_0's binary_logloss: 0.467004\n",
            "[85]\tvalid_0's binary_logloss: 0.467242\n",
            "[86]\tvalid_0's binary_logloss: 0.46798\n",
            "[87]\tvalid_0's binary_logloss: 0.469014\n",
            "[88]\tvalid_0's binary_logloss: 0.469309\n",
            "[89]\tvalid_0's binary_logloss: 0.470274\n",
            "[90]\tvalid_0's binary_logloss: 0.4707\n",
            "[91]\tvalid_0's binary_logloss: 0.47084\n",
            "[92]\tvalid_0's binary_logloss: 0.471306\n",
            "[93]\tvalid_0's binary_logloss: 0.471292\n",
            "[94]\tvalid_0's binary_logloss: 0.471421\n",
            "[95]\tvalid_0's binary_logloss: 0.47122\n",
            "[96]\tvalid_0's binary_logloss: 0.47191\n",
            "[97]\tvalid_0's binary_logloss: 0.472459\n",
            "[98]\tvalid_0's binary_logloss: 0.472888\n",
            "[99]\tvalid_0's binary_logloss: 0.473029\n",
            "[100]\tvalid_0's binary_logloss: 0.473238\n",
            "[101]\tvalid_0's binary_logloss: 0.473034\n",
            "[102]\tvalid_0's binary_logloss: 0.473495\n",
            "[103]\tvalid_0's binary_logloss: 0.473205\n",
            "[104]\tvalid_0's binary_logloss: 0.473433\n",
            "[105]\tvalid_0's binary_logloss: 0.473661\n",
            "[106]\tvalid_0's binary_logloss: 0.473601\n",
            "[107]\tvalid_0's binary_logloss: 0.47336\n",
            "[108]\tvalid_0's binary_logloss: 0.473242\n",
            "[109]\tvalid_0's binary_logloss: 0.473337\n",
            "[110]\tvalid_0's binary_logloss: 0.473185\n",
            "[111]\tvalid_0's binary_logloss: 0.473827\n",
            "[112]\tvalid_0's binary_logloss: 0.474415\n",
            "[113]\tvalid_0's binary_logloss: 0.475046\n",
            "[114]\tvalid_0's binary_logloss: 0.475767\n",
            "[115]\tvalid_0's binary_logloss: 0.476423\n",
            "[116]\tvalid_0's binary_logloss: 0.477536\n",
            "[117]\tvalid_0's binary_logloss: 0.477563\n",
            "[118]\tvalid_0's binary_logloss: 0.477692\n",
            "[119]\tvalid_0's binary_logloss: 0.477858\n",
            "[120]\tvalid_0's binary_logloss: 0.477959\n",
            "[121]\tvalid_0's binary_logloss: 0.477449\n",
            "[122]\tvalid_0's binary_logloss: 0.478603\n",
            "[123]\tvalid_0's binary_logloss: 0.479494\n",
            "[124]\tvalid_0's binary_logloss: 0.480471\n",
            "[125]\tvalid_0's binary_logloss: 0.481315\n",
            "[126]\tvalid_0's binary_logloss: 0.481464\n",
            "[127]\tvalid_0's binary_logloss: 0.481875\n",
            "[128]\tvalid_0's binary_logloss: 0.482115\n",
            "[129]\tvalid_0's binary_logloss: 0.482231\n",
            "[130]\tvalid_0's binary_logloss: 0.482526\n",
            "[131]\tvalid_0's binary_logloss: 0.482507\n",
            "[132]\tvalid_0's binary_logloss: 0.48335\n",
            "[133]\tvalid_0's binary_logloss: 0.484284\n",
            "[134]\tvalid_0's binary_logloss: 0.484341\n",
            "[135]\tvalid_0's binary_logloss: 0.484151\n",
            "[136]\tvalid_0's binary_logloss: 0.485035\n",
            "[137]\tvalid_0's binary_logloss: 0.485241\n",
            "[138]\tvalid_0's binary_logloss: 0.485295\n",
            "[139]\tvalid_0's binary_logloss: 0.485447\n",
            "[140]\tvalid_0's binary_logloss: 0.485737\n",
            "[141]\tvalid_0's binary_logloss: 0.485901\n",
            "[142]\tvalid_0's binary_logloss: 0.486777\n",
            "[143]\tvalid_0's binary_logloss: 0.486872\n",
            "[144]\tvalid_0's binary_logloss: 0.486909\n",
            "[145]\tvalid_0's binary_logloss: 0.487219\n",
            "[146]\tvalid_0's binary_logloss: 0.487286\n",
            "[147]\tvalid_0's binary_logloss: 0.487842\n",
            "[148]\tvalid_0's binary_logloss: 0.488381\n",
            "[149]\tvalid_0's binary_logloss: 0.488872\n",
            "[150]\tvalid_0's binary_logloss: 0.489495\n",
            "[151]\tvalid_0's binary_logloss: 0.490074\n",
            "[152]\tvalid_0's binary_logloss: 0.490559\n",
            "[153]\tvalid_0's binary_logloss: 0.490433\n",
            "[154]\tvalid_0's binary_logloss: 0.490763\n",
            "[155]\tvalid_0's binary_logloss: 0.490728\n",
            "[156]\tvalid_0's binary_logloss: 0.491376\n",
            "[157]\tvalid_0's binary_logloss: 0.491656\n",
            "[158]\tvalid_0's binary_logloss: 0.491808\n",
            "[159]\tvalid_0's binary_logloss: 0.49241\n",
            "[160]\tvalid_0's binary_logloss: 0.493054\n",
            "[161]\tvalid_0's binary_logloss: 0.493076\n",
            "[162]\tvalid_0's binary_logloss: 0.49344\n",
            "[163]\tvalid_0's binary_logloss: 0.493873\n",
            "[164]\tvalid_0's binary_logloss: 0.493932\n",
            "[165]\tvalid_0's binary_logloss: 0.493468\n",
            "[166]\tvalid_0's binary_logloss: 0.493531\n",
            "[167]\tvalid_0's binary_logloss: 0.494214\n",
            "[168]\tvalid_0's binary_logloss: 0.49448\n",
            "[169]\tvalid_0's binary_logloss: 0.494787\n",
            "[170]\tvalid_0's binary_logloss: 0.49477\n",
            "[171]\tvalid_0's binary_logloss: 0.495622\n",
            "[172]\tvalid_0's binary_logloss: 0.495993\n",
            "[173]\tvalid_0's binary_logloss: 0.49664\n",
            "[174]\tvalid_0's binary_logloss: 0.4976\n",
            "[175]\tvalid_0's binary_logloss: 0.497515\n",
            "[176]\tvalid_0's binary_logloss: 0.498329\n",
            "[177]\tvalid_0's binary_logloss: 0.498845\n",
            "[178]\tvalid_0's binary_logloss: 0.499205\n",
            "[179]\tvalid_0's binary_logloss: 0.499253\n",
            "[180]\tvalid_0's binary_logloss: 0.499572\n",
            "[181]\tvalid_0's binary_logloss: 0.500019\n",
            "[182]\tvalid_0's binary_logloss: 0.500293\n",
            "[183]\tvalid_0's binary_logloss: 0.500928\n",
            "[184]\tvalid_0's binary_logloss: 0.501014\n",
            "[185]\tvalid_0's binary_logloss: 0.500909\n",
            "[186]\tvalid_0's binary_logloss: 0.501329\n",
            "[187]\tvalid_0's binary_logloss: 0.5019\n",
            "[188]\tvalid_0's binary_logloss: 0.502083\n",
            "[189]\tvalid_0's binary_logloss: 0.50224\n",
            "[190]\tvalid_0's binary_logloss: 0.502683\n",
            "[191]\tvalid_0's binary_logloss: 0.502458\n",
            "[192]\tvalid_0's binary_logloss: 0.50287\n",
            "[193]\tvalid_0's binary_logloss: 0.503561\n",
            "[194]\tvalid_0's binary_logloss: 0.504488\n",
            "[195]\tvalid_0's binary_logloss: 0.505009\n",
            "[196]\tvalid_0's binary_logloss: 0.505734\n",
            "[197]\tvalid_0's binary_logloss: 0.506193\n",
            "[198]\tvalid_0's binary_logloss: 0.506822\n",
            "[199]\tvalid_0's binary_logloss: 0.506995\n",
            "[200]\tvalid_0's binary_logloss: 0.507875\n",
            "[201]\tvalid_0's binary_logloss: 0.508266\n",
            "[202]\tvalid_0's binary_logloss: 0.508186\n",
            "[203]\tvalid_0's binary_logloss: 0.50851\n",
            "[204]\tvalid_0's binary_logloss: 0.50922\n",
            "[205]\tvalid_0's binary_logloss: 0.509474\n",
            "[206]\tvalid_0's binary_logloss: 0.510044\n",
            "[207]\tvalid_0's binary_logloss: 0.510902\n",
            "[208]\tvalid_0's binary_logloss: 0.512016\n",
            "[209]\tvalid_0's binary_logloss: 0.512824\n",
            "[210]\tvalid_0's binary_logloss: 0.513182\n",
            "[211]\tvalid_0's binary_logloss: 0.513485\n",
            "[212]\tvalid_0's binary_logloss: 0.513758\n",
            "[213]\tvalid_0's binary_logloss: 0.514604\n",
            "[214]\tvalid_0's binary_logloss: 0.515123\n",
            "[215]\tvalid_0's binary_logloss: 0.515624\n",
            "[216]\tvalid_0's binary_logloss: 0.515993\n",
            "[217]\tvalid_0's binary_logloss: 0.515748\n",
            "[218]\tvalid_0's binary_logloss: 0.515641\n",
            "[219]\tvalid_0's binary_logloss: 0.515818\n",
            "[220]\tvalid_0's binary_logloss: 0.51573\n",
            "[221]\tvalid_0's binary_logloss: 0.51656\n",
            "[222]\tvalid_0's binary_logloss: 0.516881\n",
            "[223]\tvalid_0's binary_logloss: 0.517576\n",
            "[224]\tvalid_0's binary_logloss: 0.517743\n",
            "[225]\tvalid_0's binary_logloss: 0.518298\n",
            "[226]\tvalid_0's binary_logloss: 0.518293\n",
            "[227]\tvalid_0's binary_logloss: 0.518778\n",
            "[228]\tvalid_0's binary_logloss: 0.519274\n",
            "[229]\tvalid_0's binary_logloss: 0.51959\n",
            "[230]\tvalid_0's binary_logloss: 0.51984\n",
            "Early stopping, best iteration is:\n",
            "[30]\tvalid_0's binary_logloss: 0.454296\n"
          ]
        }
      ]
    },
    {
      "cell_type": "code",
      "source": [
        "# Plot feature importance \n",
        "lgb.plot_importance(lgbm_model,max_num_features = 100)\n"
      ],
      "metadata": {
        "id": "n2m61hRwmdPs",
        "colab": {
          "base_uri": "https://localhost:8080/",
          "height": 313
        },
        "outputId": "ac46a661-c6ae-41bb-9047-55cb609470ca"
      },
      "execution_count": null,
      "outputs": [
        {
          "output_type": "execute_result",
          "data": {
            "text/plain": [
              "<matplotlib.axes._subplots.AxesSubplot at 0x7ff838b7f510>"
            ]
          },
          "metadata": {},
          "execution_count": 118
        },
        {
          "output_type": "display_data",
          "data": {
            "text/plain": [
              "<Figure size 432x288 with 1 Axes>"
            ],
            "image/png": "[encoded data removed]"
          },
          "metadata": {
            "needs_background": "light"
          }
        }
      ]
    },
    {
      "cell_type": "markdown",
      "source": [
        "## Evaluate model on the test set"
      ],
      "metadata": {
        "id": "n24X3iViedZt"
      }
    },
    {
      "cell_type": "code",
      "source": [
        "test_feature_engineered, id_col, target_col,cat_cols, multi_cols, num_cols =featurepipe.feature_engineering(holdout_test_data, test_set = True)\n"
      ],
      "metadata": {
        "id": "JbE2_kOFJWTO"
      },
      "execution_count": null,
      "outputs": []
    },
    {
      "cell_type": "code",
      "source": [
        "X_test = test_feature_engineered[X_cols]\n",
        "y_test = test_feature_engineered[target_col[0]]"
      ],
      "metadata": {
        "id": "XwW7vAgALMHW"
      },
      "execution_count": null,
      "outputs": []
    },
    {
      "cell_type": "markdown",
      "source": [
        "### Evaluate XGBoost"
      ],
      "metadata": {
        "id": "vL5crgCyLd4x"
      }
    },
    {
      "cell_type": "code",
      "source": [
        "from sklearn.metrics import accuracy_score, log_loss, confusion_matrix\n",
        "\n",
        "x_test = test_feature_engineered\n",
        "predictions = model.predict(X_test)\n",
        "acc = accuracy_score(y_test.values.ravel(), predictions)\n",
        "loss = log_loss(y_test.values.ravel(), predictions)"
      ],
      "metadata": {
        "id": "KyoT1vkAkavz"
      },
      "execution_count": null,
      "outputs": []
    },
    {
      "cell_type": "code",
      "source": [
        "import seaborn as sns\n",
        "\n",
        "conf_mat = confusion_matrix(y_test, predictions)\n",
        "conf_mat_plot = sns.heatmap(conf_mat, annot=True, fmt='g')"
      ],
      "metadata": {
        "colab": {
          "base_uri": "https://localhost:8080/",
          "height": 265
        },
        "id": "gJfaFhKOLY_I",
        "outputId": "4c8adbf4-257e-43bc-ba52-b9cd70e4039e"
      },
      "execution_count": null,
      "outputs": [
        {
          "output_type": "display_data",
          "data": {
            "text/plain": [
              "<Figure size 432x288 with 2 Axes>"
            ],
            "image/png": "[encoded data removed]"
          },
          "metadata": {
            "needs_background": "light"
          }
        }
      ]
    },
    {
      "cell_type": "markdown",
      "source": [
        "### Evaluate LightGBM"
      ],
      "metadata": {
        "id": "NUBljAiVLhex"
      }
    },
    {
      "cell_type": "code",
      "source": [
        "X_test_lgb = X_test\n",
        "X_test_lgb[not_num_cols] = X_test_lgb[not_num_cols].astype('category')\n",
        "y_test_lgb =y_test\n",
        "y_test_lgb = y_test.astype('category')"
      ],
      "metadata": {
        "colab": {
          "base_uri": "https://localhost:8080/"
        },
        "id": "37s-Pb8WLgzs",
        "outputId": "6304e482-2a89-415c-b1d9-f4850203148d"
      },
      "execution_count": null,
      "outputs": [
        {
          "output_type": "stream",
          "name": "stderr",
          "text": [
            "\n",
            "A value is trying to be set on a copy of a slice from a DataFrame.\n",
            "Try using .loc[row_indexer,col_indexer] = value instead\n",
            "\n",
            "See the caveats in the documentation: https://pandas.pydata.org/pandas-docs/stable/user_guide/indexing.html#returning-a-view-versus-a-copy\n"
          ]
        }
      ]
    },
    {
      "cell_type": "code",
      "source": [
        "threshold = 0.5 \n",
        "\n",
        "predictions_lgb = lgbm_model.predict(X_test_lgb)\n",
        "\n",
        "predictions_lgb_binary = np.where(predictions_lgb >threshold, 1,0).astype(int)\n",
        "predictions_lgb_binary"
      ],
      "metadata": {
        "colab": {
          "base_uri": "https://localhost:8080/"
        },
        "id": "D3F3o718P_Tg",
        "outputId": "6e0d2d87-70e9-49e4-d4d5-2606033c2387"
      },
      "execution_count": null,
      "outputs": [
        {
          "output_type": "execute_result",
          "data": {
            "text/plain": [
              "array([1, 0, 0, ..., 0, 0, 1])"
            ]
          },
          "metadata": {},
          "execution_count": 139
        }
      ]
    },
    {
      "cell_type": "code",
      "source": [
        "acc_lgb = accuracy_score(y_test_lgb, predictions_lgb_binary)\n",
        "\n",
        "loss_lgb = log_loss(y_test_lgb, predictions_lgb_binary)"
      ],
      "metadata": {
        "id": "O7qcYoHHLwsN"
      },
      "execution_count": null,
      "outputs": []
    },
    {
      "cell_type": "code",
      "source": [
        "conf_mat_lgb = confusion_matrix(y_test.values.ravel(), predictions_lgb_binary)\n",
        "conf_mat_plot_lgb = sns.heatmap(conf_mat_lgb, annot=True, fmt='g')"
      ],
      "metadata": {
        "colab": {
          "base_uri": "https://localhost:8080/",
          "height": 265
        },
        "id": "x5wP7wzaMFqj",
        "outputId": "572755dc-4adb-4983-e0c4-d0a269933fe4"
      },
      "execution_count": null,
      "outputs": [
        {
          "output_type": "display_data",
          "data": {
            "text/plain": [
              "<Figure size 432x288 with 2 Axes>"
            ],
            "image/png": "[encoded data removed]"
          },
          "metadata": {
            "needs_background": "light"
          }
        }
      ]
    },
    {
      "cell_type": "markdown",
      "source": [
        "## Explain model with SHAP"
      ],
      "metadata": {
        "id": "DMac6j-0ZYow"
      }
    },
    {
      "cell_type": "code",
      "source": [
        "! pip install shap "
      ],
      "metadata": {
        "colab": {
          "base_uri": "https://localhost:8080/"
        },
        "id": "zKE2_AoKEkXh",
        "outputId": "187d0802-3764-4e8e-dc9c-f555569b1803"
      },
      "execution_count": null,
      "outputs": [
        {
          "output_type": "stream",
          "name": "stdout",
          "text": [
            "Looking in indexes: https://pypi.org/simple, https://us-python.pkg.dev/colab-wheels/public/simple/\n",
            "Collecting shap\n",
            "  Downloading shap-0.41.0-cp37-cp37m-manylinux_2_12_x86_64.manylinux2010_x86_64.whl (569 kB)\n",
            "\u001b[K     |████████████████████████████████| 569 kB 5.2 MB/s \n",
            "\u001b[?25hRequirement already satisfied: scipy in /usr/local/lib/python3.7/dist-packages (from shap) (1.7.3)\n",
            "Requirement already satisfied: numba in /usr/local/lib/python3.7/dist-packages (from shap) (0.56.0)\n",
            "Requirement already satisfied: packaging>20.9 in /usr/local/lib/python3.7/dist-packages (from shap) (21.3)\n",
            "Requirement already satisfied: scikit-learn in /usr/local/lib/python3.7/dist-packages (from shap) (1.0.2)\n",
            "Requirement already satisfied: numpy in /usr/local/lib/python3.7/dist-packages (from shap) (1.21.6)\n",
            "Collecting slicer==0.0.7\n",
            "  Downloading slicer-0.0.7-py3-none-any.whl (14 kB)\n",
            "Requirement already satisfied: tqdm>4.25.0 in /usr/local/lib/python3.7/dist-packages (from shap) (4.64.0)\n",
            "Requirement already satisfied: cloudpickle in /usr/local/lib/python3.7/dist-packages (from shap) (1.5.0)\n",
            "Requirement already satisfied: pandas in /usr/local/lib/python3.7/dist-packages (from shap) (1.3.5)\n",
            "Requirement already satisfied: pyparsing!=3.0.5,>=2.0.2 in /usr/local/lib/python3.7/dist-packages (from packaging>20.9->shap) (3.0.9)\n",
            "Requirement already satisfied: importlib-metadata in /usr/local/lib/python3.7/dist-packages (from numba->shap) (4.12.0)\n",
            "Requirement already satisfied: llvmlite<0.40,>=0.39.0dev0 in /usr/local/lib/python3.7/dist-packages (from numba->shap) (0.39.0)\n",
            "Requirement already satisfied: setuptools in /usr/local/lib/python3.7/dist-packages (from numba->shap) (57.4.0)\n",
            "Requirement already satisfied: typing-extensions>=3.6.4 in /usr/local/lib/python3.7/dist-packages (from importlib-metadata->numba->shap) (4.1.1)\n",
            "Requirement already satisfied: zipp>=0.5 in /usr/local/lib/python3.7/dist-packages (from importlib-metadata->numba->shap) (3.8.1)\n",
            "Requirement already satisfied: pytz>=2017.3 in /usr/local/lib/python3.7/dist-packages (from pandas->shap) (2022.2.1)\n",
            "Requirement already satisfied: python-dateutil>=2.7.3 in /usr/local/lib/python3.7/dist-packages (from pandas->shap) (2.8.2)\n",
            "Requirement already satisfied: six>=1.5 in /usr/local/lib/python3.7/dist-packages (from python-dateutil>=2.7.3->pandas->shap) (1.15.0)\n",
            "Requirement already satisfied: joblib>=0.11 in /usr/local/lib/python3.7/dist-packages (from scikit-learn->shap) (1.1.0)\n",
            "Requirement already satisfied: threadpoolctl>=2.0.0 in /usr/local/lib/python3.7/dist-packages (from scikit-learn->shap) (3.1.0)\n",
            "Installing collected packages: slicer, shap\n",
            "Successfully installed shap-0.41.0 slicer-0.0.7\n"
          ]
        }
      ]
    },
    {
      "cell_type": "markdown",
      "source": [
        "## Explain XGBoost"
      ],
      "metadata": {
        "id": "yJCz_glXOzrj"
      }
    },
    {
      "cell_type": "code",
      "source": [
        "#Shap summary plot \n",
        "import shap\n",
        "\n",
        "explainer = shap.TreeExplainer(model,)\n",
        "shap_values = explainer.shap_values(X_val)\n",
        "shap.summary_plot(shap_values, X_val)"
      ],
      "metadata": {
        "colab": {
          "base_uri": "https://localhost:8080/",
          "height": 693
        },
        "id": "1HjPk57olW4l",
        "outputId": "7630a1f9-ab52-411f-bebb-c37edb695e5b"
      },
      "execution_count": null,
      "outputs": [
        {
          "output_type": "display_data",
          "data": {
            "text/plain": [
              "<Figure size 576x684 with 2 Axes>"
            ],
            "image/png": "[encoded data removed]"
          },
          "metadata": {
            "needs_background": "light"
          }
        }
      ]
    }
  ]
}